{
 "cells": [
  {
   "cell_type": "code",
   "execution_count": null,
   "id": "105b8ef9",
   "metadata": {},
   "outputs": [],
   "source": [
    "import os\n",
    "import itk\n",
    "import itkwidgets\n",
    "\n",
    "import parent\n",
    "from test.tests import TEST_DATA_DIR\n",
    "from test.tests import download_test_data\n",
    "download_test_data()"
   ]
  },
  {
   "cell_type": "code",
   "execution_count": null,
   "id": "607c1efc",
   "metadata": {},
   "outputs": [],
   "source": [
    "test_volume = itk.imread(os.path.join(TEST_DATA_DIR, \"colab_case/image_preprocessed.nii.gz\"))"
   ]
  },
  {
   "cell_type": "code",
   "execution_count": null,
   "id": "96e302c2",
   "metadata": {},
   "outputs": [],
   "source": [
    "itkwidgets.view(test_volume)"
   ]
  },
  {
   "cell_type": "code",
   "execution_count": null,
   "id": "1c45b4af",
   "metadata": {},
   "outputs": [],
   "source": [
    "import oai_analysis_2\n",
    "obj = oai_analysis_2.AnalysisObject()\n",
    "FC, TC = obj.segment(test_volume)"
   ]
  },
  {
   "cell_type": "code",
   "execution_count": null,
   "id": "12131af9",
   "metadata": {},
   "outputs": [],
   "source": [
    "itkwidgets.view(FC)"
   ]
  },
  {
   "cell_type": "code",
   "execution_count": null,
   "id": "8bd8325e",
   "metadata": {},
   "outputs": [],
   "source": []
  }
 ],
 "metadata": {
  "kernelspec": {
   "display_name": "Python 3 (ipykernel)",
   "language": "python",
   "name": "python3"
  },
  "language_info": {
   "codemirror_mode": {
    "name": "ipython",
    "version": 3
   },
   "file_extension": ".py",
   "mimetype": "text/x-python",
   "name": "python",
   "nbconvert_exporter": "python",
   "pygments_lexer": "ipython3",
   "version": "3.8.10"
  }
 },
 "nbformat": 4,
 "nbformat_minor": 5
}
