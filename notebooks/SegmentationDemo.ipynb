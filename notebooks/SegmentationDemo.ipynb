{
 "cells": [
  {
   "cell_type": "code",
   "execution_count": 2,
   "id": "105b8ef9",
   "metadata": {},
   "outputs": [],
   "source": [
    "import os\n",
    "import itk\n",
    "import itkwidgets\n",
    "\n",
    "import parent\n",
    "from test.test_all import TEST_DATA_DIR\n",
    "from test.test_all import download_test_data\n",
    "download_test_data()"
   ]
  },
  {
   "cell_type": "code",
   "execution_count": 3,
   "id": "607c1efc",
   "metadata": {},
   "outputs": [],
   "source": [
    "test_volume = itk.imread(os.path.join(TEST_DATA_DIR, \"colab_case/image_preprocessed.nii.gz\"))"
   ]
  },
  {
   "cell_type": "code",
   "execution_count": 4,
   "id": "96e302c2",
   "metadata": {},
   "outputs": [
    {
     "data": {
      "application/vnd.jupyter.widget-view+json": {
       "model_id": "6e1668b13ead4e2aa3d33b622fd6300c",
       "version_major": 2,
       "version_minor": 0
      },
      "text/plain": [
       "Viewer(geometries=[], gradient_opacity=0.22, point_sets=[], rendered_image=<itk.itkImagePython.itkImageF3; pro…"
      ]
     },
     "metadata": {},
     "output_type": "display_data"
    }
   ],
   "source": [
    "itkwidgets.view(test_volume)"
   ]
  },
  {
   "cell_type": "code",
   "execution_count": null,
   "id": "1c45b4af",
   "metadata": {},
   "outputs": [],
   "source": [
    "from oai_analysis_2.analysis_object import AnalysisObject\n",
    "obj = AnalysisObject()\n",
    "FC, TC = obj.segment(test_volume)"
   ]
  },
  {
   "cell_type": "code",
   "execution_count": null,
   "id": "12131af9",
   "metadata": {},
   "outputs": [],
   "source": [
    "itkwidgets.view(FC)"
   ]
  },
  {
   "cell_type": "code",
   "execution_count": null,
   "id": "8bd8325e",
   "metadata": {},
   "outputs": [],
   "source": []
  }
 ],
 "metadata": {
  "kernelspec": {
   "display_name": "Python 3 (ipykernel)",
   "language": "python",
   "name": "python3"
  },
  "language_info": {
   "codemirror_mode": {
    "name": "ipython",
    "version": 3
   },
   "file_extension": ".py",
   "mimetype": "text/x-python",
   "name": "python",
   "nbconvert_exporter": "python",
   "pygments_lexer": "ipython3",
   "version": "3.8.12"
  }
 },
 "nbformat": 4,
 "nbformat_minor": 5
}
