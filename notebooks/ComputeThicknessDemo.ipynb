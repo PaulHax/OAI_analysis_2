{
  "nbformat": 4,
  "nbformat_minor": 0,
  "metadata": {
    "colab": {
      "name": "SplitCartilageEfficient.ipynb",
      "provenance": [],
      "collapsed_sections": []
    },
    "kernelspec": {
      "name": "python3",
      "display_name": "Python 3"
    },
    "language_info": {
      "name": "python"
    },
    "widgets": {
      "application/vnd.jupyter.widget-state+json": {
        "5ee20e7800674f17a1a4061229a414a3": {
          "model_module": "itkwidgets",
          "model_name": "ViewerModel",
          "model_module_version": "^0.32.1",
          "state": {
            "_view_name": "ViewerView",
            "_rendering_image": false,
            "point_set_colors": {
              "dtype": "float32",
              "shape": [
                0,
                3
              ]
            },
            "opacity_gaussians": null,
            "label_image_blend": 0.5,
            "gradient_opacity": 0.22,
            "_view_module": "itkwidgets",
            "_model_module_version": "^0.32.1",
            "_view_count": null,
            "channels": null,
            "y_slice": null,
            "_largest_roi": {
              "dtype": "float64",
              "shape": [
                2,
                3
              ]
            },
            "_model_module": "itkwidgets",
            "blend_mode": "composite",
            "point_set_opacities": {
              "dtype": "float32",
              "shape": [
                0
              ]
            },
            "layout": "IPY_MODEL_db19f21494eb41308032b8106e125971",
            "_downsampling": false,
            "geometries": [
              {
                "polys": {
                  "dataType": "Uint32Array",
                  "numberOfComponents": 1,
                  "size": 492700,
                  "name": "_polys",
                  "vtkClass": "vtkCellArray"
                },
                "points": {
                  "dataType": "Float32Array",
                  "numberOfComponents": 3,
                  "size": 188478,
                  "name": "_points",
                  "vtkClass": "vtkPoints"
                },
                "metadata": {
                  "name": "Geometry 0"
                },
                "vtkClass": "vtkPolyData"
              },
              {
                "polys": {
                  "dataType": "Uint32Array",
                  "numberOfComponents": 1,
                  "size": 448336,
                  "name": "_polys",
                  "vtkClass": "vtkCellArray"
                },
                "points": {
                  "dataType": "Float32Array",
                  "numberOfComponents": 3,
                  "size": 171786,
                  "name": "_points",
                  "vtkClass": "vtkPoints"
                },
                "metadata": {
                  "name": "Geometry 1"
                },
                "vtkClass": "vtkPolyData"
              }
            ],
            "clicked_slice_point": null,
            "label_image_weights": null,
            "axes": false,
            "point_set_representations": [],
            "z_slice": null,
            "camera": {
              "dtype": "float32",
              "shape": [
                3,
                3
              ]
            },
            "ui_collapsed": false,
            "units": "",
            "rendered_image": null,
            "annotations": true,
            "interpolation": true,
            "point_sets": [],
            "rendered_label_image": null,
            "_dom_classes": [],
            "_model_name": "ViewerModel",
            "_scale_factors": {
              "dtype": "uint8",
              "shape": [
                3
              ]
            },
            "geometry_colors": {
              "dtype": "float32",
              "shape": [
                2,
                3
              ]
            },
            "background": [
              1,
              1,
              1
            ],
            "vmax": null,
            "lut": "glasbey",
            "shadow": true,
            "geometry_opacities": {
              "dtype": "float32",
              "shape": [
                2
              ]
            },
            "rotate": false,
            "roi": {
              "dtype": "float64",
              "shape": [
                2,
                3
              ]
            },
            "vmin": null,
            "_custom_cmap": null,
            "point_set_sizes": {
              "dtype": "uint8",
              "shape": [
                0
              ]
            },
            "slicing_planes": false,
            "select_roi": false,
            "_view_module_version": "^0.32.1",
            "cmap": null,
            "label_image_names": null,
            "_reset_crop_requested": false,
            "mode": "v",
            "sample_distance": 0.25,
            "x_slice": null
          }
        },
        "db19f21494eb41308032b8106e125971": {
          "model_module": "@jupyter-widgets/base",
          "model_name": "LayoutModel",
          "model_module_version": "1.2.0",
          "state": {
            "_view_name": "LayoutView",
            "grid_template_rows": null,
            "right": null,
            "justify_content": null,
            "_view_module": "@jupyter-widgets/base",
            "overflow": null,
            "_model_module_version": "1.2.0",
            "_view_count": null,
            "flex_flow": null,
            "width": null,
            "min_width": null,
            "border": null,
            "align_items": null,
            "bottom": null,
            "_model_module": "@jupyter-widgets/base",
            "top": null,
            "grid_column": null,
            "overflow_y": null,
            "overflow_x": null,
            "grid_auto_flow": null,
            "grid_area": null,
            "grid_template_columns": null,
            "flex": null,
            "_model_name": "LayoutModel",
            "justify_items": null,
            "grid_row": null,
            "max_height": null,
            "align_content": null,
            "visibility": null,
            "align_self": null,
            "height": null,
            "min_height": null,
            "padding": null,
            "grid_auto_rows": null,
            "grid_gap": null,
            "max_width": null,
            "order": null,
            "_view_module_version": "1.2.0",
            "grid_template_areas": null,
            "object_position": null,
            "object_fit": null,
            "grid_auto_columns": null,
            "margin": null,
            "display": null,
            "left": null
          }
        },
        "88a75b392cc846189dca8daa266854f4": {
          "model_module": "itkwidgets",
          "model_name": "ViewerModel",
          "model_module_version": "^0.32.1",
          "state": {
            "_view_name": "ViewerView",
            "_rendering_image": false,
            "point_set_colors": {
              "dtype": "float32",
              "shape": [
                0,
                3
              ]
            },
            "opacity_gaussians": null,
            "label_image_blend": 0.5,
            "gradient_opacity": 0.22,
            "_view_module": "itkwidgets",
            "_model_module_version": "^0.32.1",
            "_view_count": null,
            "channels": null,
            "y_slice": null,
            "_largest_roi": {
              "dtype": "float64",
              "shape": [
                2,
                3
              ]
            },
            "_model_module": "itkwidgets",
            "blend_mode": "composite",
            "point_set_opacities": {
              "dtype": "float32",
              "shape": [
                0
              ]
            },
            "layout": "IPY_MODEL_bc29d2145ba047dab9182df40511a2a3",
            "_downsampling": false,
            "geometries": [
              {
                "cellData": {
                  "arrays": [
                    {
                      "data": {
                        "dataType": "Float64Array",
                        "numberOfComponents": 1,
                        "size": 123175,
                        "name": "Distance",
                        "vtkClass": "vtkDataArray"
                      }
                    }
                  ],
                  "activeScalars": 0,
                  "vtkClass": "vtkDataSetAttributes"
                },
                "vtkClass": "vtkPolyData",
                "polys": {
                  "dataType": "Uint32Array",
                  "numberOfComponents": 1,
                  "size": 492700,
                  "name": "_polys",
                  "vtkClass": "vtkCellArray"
                },
                "pointData": {
                  "arrays": [
                    {
                      "data": {
                        "dataType": "Float64Array",
                        "numberOfComponents": 1,
                        "size": 62826,
                        "name": "Distance",
                        "vtkClass": "vtkDataArray"
                      }
                    }
                  ],
                  "activeScalars": 0,
                  "vtkClass": "vtkDataSetAttributes"
                },
                "points": {
                  "dataType": "Float32Array",
                  "numberOfComponents": 3,
                  "size": 188478,
                  "name": "_points",
                  "vtkClass": "vtkPoints"
                },
                "metadata": {
                  "name": "Geometry 0"
                }
              },
              {
                "cellData": {
                  "arrays": [
                    {
                      "data": {
                        "dataType": "Float64Array",
                        "numberOfComponents": 1,
                        "size": 112084,
                        "name": "Distance",
                        "vtkClass": "vtkDataArray"
                      }
                    }
                  ],
                  "activeScalars": 0,
                  "vtkClass": "vtkDataSetAttributes"
                },
                "vtkClass": "vtkPolyData",
                "polys": {
                  "dataType": "Uint32Array",
                  "numberOfComponents": 1,
                  "size": 448336,
                  "name": "_polys",
                  "vtkClass": "vtkCellArray"
                },
                "pointData": {
                  "arrays": [
                    {
                      "data": {
                        "dataType": "Float64Array",
                        "numberOfComponents": 1,
                        "size": 57262,
                        "name": "Distance",
                        "vtkClass": "vtkDataArray"
                      }
                    }
                  ],
                  "activeScalars": 0,
                  "vtkClass": "vtkDataSetAttributes"
                },
                "points": {
                  "dataType": "Float32Array",
                  "numberOfComponents": 3,
                  "size": 171786,
                  "name": "_points",
                  "vtkClass": "vtkPoints"
                },
                "metadata": {
                  "name": "Geometry 1"
                }
              }
            ],
            "clicked_slice_point": null,
            "label_image_weights": null,
            "axes": false,
            "point_set_representations": [],
            "z_slice": null,
            "camera": {
              "dtype": "float32",
              "shape": [
                3,
                3
              ]
            },
            "ui_collapsed": false,
            "units": "",
            "rendered_image": null,
            "annotations": true,
            "interpolation": true,
            "point_sets": [],
            "rendered_label_image": null,
            "_dom_classes": [],
            "_model_name": "ViewerModel",
            "_scale_factors": {
              "dtype": "uint8",
              "shape": [
                3
              ]
            },
            "geometry_colors": {
              "dtype": "float32",
              "shape": [
                2,
                3
              ]
            },
            "background": [
              1,
              1,
              1
            ],
            "vmax": null,
            "lut": "glasbey",
            "shadow": true,
            "geometry_opacities": {
              "dtype": "float32",
              "shape": [
                2
              ]
            },
            "rotate": false,
            "roi": {
              "dtype": "float64",
              "shape": [
                2,
                3
              ]
            },
            "vmin": null,
            "_custom_cmap": null,
            "point_set_sizes": {
              "dtype": "uint8",
              "shape": [
                0
              ]
            },
            "slicing_planes": false,
            "select_roi": false,
            "_view_module_version": "^0.32.1",
            "cmap": null,
            "label_image_names": null,
            "_reset_crop_requested": false,
            "mode": "v",
            "sample_distance": 0.25,
            "x_slice": null
          }
        },
        "bc29d2145ba047dab9182df40511a2a3": {
          "model_module": "@jupyter-widgets/base",
          "model_name": "LayoutModel",
          "model_module_version": "1.2.0",
          "state": {
            "_view_name": "LayoutView",
            "grid_template_rows": null,
            "right": null,
            "justify_content": null,
            "_view_module": "@jupyter-widgets/base",
            "overflow": null,
            "_model_module_version": "1.2.0",
            "_view_count": null,
            "flex_flow": null,
            "width": null,
            "min_width": null,
            "border": null,
            "align_items": null,
            "bottom": null,
            "_model_module": "@jupyter-widgets/base",
            "top": null,
            "grid_column": null,
            "overflow_y": null,
            "overflow_x": null,
            "grid_auto_flow": null,
            "grid_area": null,
            "grid_template_columns": null,
            "flex": null,
            "_model_name": "LayoutModel",
            "justify_items": null,
            "grid_row": null,
            "max_height": null,
            "align_content": null,
            "visibility": null,
            "align_self": null,
            "height": null,
            "min_height": null,
            "padding": null,
            "grid_auto_rows": null,
            "grid_gap": null,
            "max_width": null,
            "order": null,
            "_view_module_version": "1.2.0",
            "grid_template_areas": null,
            "object_position": null,
            "object_fit": null,
            "grid_auto_columns": null,
            "margin": null,
            "display": null,
            "left": null
          }
        },
        "162b82068e904b57803da7d8f6e38277": {
          "model_module": "itkwidgets",
          "model_name": "ViewerModel",
          "model_module_version": "^0.32.1",
          "state": {
            "_view_name": "ViewerView",
            "_rendering_image": false,
            "point_set_colors": {
              "dtype": "float32",
              "shape": [
                0,
                3
              ]
            },
            "opacity_gaussians": null,
            "label_image_blend": 0.5,
            "gradient_opacity": 0.22,
            "_view_module": "itkwidgets",
            "_model_module_version": "^0.32.1",
            "_view_count": null,
            "channels": null,
            "y_slice": null,
            "_largest_roi": {
              "dtype": "float64",
              "shape": [
                2,
                3
              ]
            },
            "_model_module": "itkwidgets",
            "blend_mode": "composite",
            "point_set_opacities": {
              "dtype": "float32",
              "shape": [
                0
              ]
            },
            "layout": "IPY_MODEL_054c94ff804743babebe12b47fd07219",
            "_downsampling": false,
            "geometries": [
              {
                "polys": {
                  "dataType": "Uint32Array",
                  "numberOfComponents": 1,
                  "size": 143892,
                  "name": "_polys",
                  "vtkClass": "vtkCellArray"
                },
                "points": {
                  "dataType": "Float32Array",
                  "numberOfComponents": 3,
                  "size": 55512,
                  "name": "_points",
                  "vtkClass": "vtkPoints"
                },
                "metadata": {
                  "name": "Geometry 0"
                },
                "vtkClass": "vtkPolyData"
              },
              {
                "polys": {
                  "dataType": "Uint32Array",
                  "numberOfComponents": 1,
                  "size": 146660,
                  "name": "_polys",
                  "vtkClass": "vtkCellArray"
                },
                "points": {
                  "dataType": "Float32Array",
                  "numberOfComponents": 3,
                  "size": 56568,
                  "name": "_points",
                  "vtkClass": "vtkPoints"
                },
                "metadata": {
                  "name": "Geometry 1"
                },
                "vtkClass": "vtkPolyData"
              }
            ],
            "clicked_slice_point": null,
            "label_image_weights": null,
            "axes": false,
            "point_set_representations": [],
            "z_slice": null,
            "camera": {
              "dtype": "float32",
              "shape": [
                3,
                3
              ]
            },
            "ui_collapsed": false,
            "units": "",
            "rendered_image": null,
            "annotations": true,
            "interpolation": true,
            "point_sets": [],
            "rendered_label_image": null,
            "_dom_classes": [],
            "_model_name": "ViewerModel",
            "_scale_factors": {
              "dtype": "uint8",
              "shape": [
                3
              ]
            },
            "geometry_colors": {
              "dtype": "float32",
              "shape": [
                2,
                3
              ]
            },
            "background": [
              1,
              1,
              1
            ],
            "vmax": null,
            "lut": "glasbey",
            "shadow": true,
            "geometry_opacities": {
              "dtype": "float32",
              "shape": [
                2
              ]
            },
            "rotate": false,
            "roi": {
              "dtype": "float64",
              "shape": [
                2,
                3
              ]
            },
            "vmin": null,
            "_custom_cmap": null,
            "point_set_sizes": {
              "dtype": "uint8",
              "shape": [
                0
              ]
            },
            "slicing_planes": false,
            "select_roi": false,
            "_view_module_version": "^0.32.1",
            "cmap": null,
            "label_image_names": null,
            "_reset_crop_requested": false,
            "mode": "v",
            "sample_distance": 0.25,
            "x_slice": null
          }
        },
        "054c94ff804743babebe12b47fd07219": {
          "model_module": "@jupyter-widgets/base",
          "model_name": "LayoutModel",
          "model_module_version": "1.2.0",
          "state": {
            "_view_name": "LayoutView",
            "grid_template_rows": null,
            "right": null,
            "justify_content": null,
            "_view_module": "@jupyter-widgets/base",
            "overflow": null,
            "_model_module_version": "1.2.0",
            "_view_count": null,
            "flex_flow": null,
            "width": null,
            "min_width": null,
            "border": null,
            "align_items": null,
            "bottom": null,
            "_model_module": "@jupyter-widgets/base",
            "top": null,
            "grid_column": null,
            "overflow_y": null,
            "overflow_x": null,
            "grid_auto_flow": null,
            "grid_area": null,
            "grid_template_columns": null,
            "flex": null,
            "_model_name": "LayoutModel",
            "justify_items": null,
            "grid_row": null,
            "max_height": null,
            "align_content": null,
            "visibility": null,
            "align_self": null,
            "height": null,
            "min_height": null,
            "padding": null,
            "grid_auto_rows": null,
            "grid_gap": null,
            "max_width": null,
            "order": null,
            "_view_module_version": "1.2.0",
            "grid_template_areas": null,
            "object_position": null,
            "object_fit": null,
            "grid_auto_columns": null,
            "margin": null,
            "display": null,
            "left": null
          }
        },
        "0f83ff475ed94a5d8b45073e51207b01": {
          "model_module": "itkwidgets",
          "model_name": "ViewerModel",
          "model_module_version": "^0.32.1",
          "state": {
            "_view_name": "ViewerView",
            "_rendering_image": false,
            "point_set_colors": {
              "dtype": "float32",
              "shape": [
                0,
                3
              ]
            },
            "opacity_gaussians": null,
            "label_image_blend": 0.5,
            "gradient_opacity": 0.22,
            "_view_module": "itkwidgets",
            "_model_module_version": "^0.32.1",
            "_view_count": null,
            "channels": null,
            "y_slice": null,
            "_largest_roi": {
              "dtype": "float64",
              "shape": [
                2,
                3
              ]
            },
            "_model_module": "itkwidgets",
            "blend_mode": "composite",
            "point_set_opacities": {
              "dtype": "float32",
              "shape": [
                0
              ]
            },
            "layout": "IPY_MODEL_52135b59c2ed41ec922303a4fc5069e9",
            "_downsampling": false,
            "geometries": [
              {
                "cellData": {
                  "arrays": [
                    {
                      "data": {
                        "dataType": "Float64Array",
                        "numberOfComponents": 1,
                        "size": 35973,
                        "name": "Distance",
                        "vtkClass": "vtkDataArray"
                      }
                    }
                  ],
                  "activeScalars": 0,
                  "vtkClass": "vtkDataSetAttributes"
                },
                "vtkClass": "vtkPolyData",
                "polys": {
                  "dataType": "Uint32Array",
                  "numberOfComponents": 1,
                  "size": 143892,
                  "name": "_polys",
                  "vtkClass": "vtkCellArray"
                },
                "pointData": {
                  "arrays": [
                    {
                      "data": {
                        "dataType": "Float64Array",
                        "numberOfComponents": 1,
                        "size": 18504,
                        "name": "Distance",
                        "vtkClass": "vtkDataArray"
                      }
                    }
                  ],
                  "activeScalars": 0,
                  "vtkClass": "vtkDataSetAttributes"
                },
                "points": {
                  "dataType": "Float32Array",
                  "numberOfComponents": 3,
                  "size": 55512,
                  "name": "_points",
                  "vtkClass": "vtkPoints"
                },
                "metadata": {
                  "name": "Geometry 0"
                }
              },
              {
                "cellData": {
                  "arrays": [
                    {
                      "data": {
                        "dataType": "Float64Array",
                        "numberOfComponents": 1,
                        "size": 36665,
                        "name": "Distance",
                        "vtkClass": "vtkDataArray"
                      }
                    }
                  ],
                  "activeScalars": 0,
                  "vtkClass": "vtkDataSetAttributes"
                },
                "vtkClass": "vtkPolyData",
                "polys": {
                  "dataType": "Uint32Array",
                  "numberOfComponents": 1,
                  "size": 146660,
                  "name": "_polys",
                  "vtkClass": "vtkCellArray"
                },
                "pointData": {
                  "arrays": [
                    {
                      "data": {
                        "dataType": "Float64Array",
                        "numberOfComponents": 1,
                        "size": 18856,
                        "name": "Distance",
                        "vtkClass": "vtkDataArray"
                      }
                    }
                  ],
                  "activeScalars": 0,
                  "vtkClass": "vtkDataSetAttributes"
                },
                "points": {
                  "dataType": "Float32Array",
                  "numberOfComponents": 3,
                  "size": 56568,
                  "name": "_points",
                  "vtkClass": "vtkPoints"
                },
                "metadata": {
                  "name": "Geometry 1"
                }
              }
            ],
            "clicked_slice_point": null,
            "label_image_weights": null,
            "axes": false,
            "point_set_representations": [],
            "z_slice": null,
            "camera": {
              "dtype": "float32",
              "shape": [
                3,
                3
              ]
            },
            "ui_collapsed": false,
            "units": "",
            "rendered_image": null,
            "annotations": true,
            "interpolation": true,
            "point_sets": [],
            "rendered_label_image": null,
            "_dom_classes": [],
            "_model_name": "ViewerModel",
            "_scale_factors": {
              "dtype": "uint8",
              "shape": [
                3
              ]
            },
            "geometry_colors": {
              "dtype": "float32",
              "shape": [
                2,
                3
              ]
            },
            "background": [
              1,
              1,
              1
            ],
            "vmax": null,
            "lut": "glasbey",
            "shadow": true,
            "geometry_opacities": {
              "dtype": "float32",
              "shape": [
                2
              ]
            },
            "rotate": false,
            "roi": {
              "dtype": "float64",
              "shape": [
                2,
                3
              ]
            },
            "vmin": null,
            "_custom_cmap": null,
            "point_set_sizes": {
              "dtype": "uint8",
              "shape": [
                0
              ]
            },
            "slicing_planes": false,
            "select_roi": false,
            "_view_module_version": "^0.32.1",
            "cmap": null,
            "label_image_names": null,
            "_reset_crop_requested": false,
            "mode": "v",
            "sample_distance": 0.25,
            "x_slice": null
          }
        },
        "52135b59c2ed41ec922303a4fc5069e9": {
          "model_module": "@jupyter-widgets/base",
          "model_name": "LayoutModel",
          "model_module_version": "1.2.0",
          "state": {
            "_view_name": "LayoutView",
            "grid_template_rows": null,
            "right": null,
            "justify_content": null,
            "_view_module": "@jupyter-widgets/base",
            "overflow": null,
            "_model_module_version": "1.2.0",
            "_view_count": null,
            "flex_flow": null,
            "width": null,
            "min_width": null,
            "border": null,
            "align_items": null,
            "bottom": null,
            "_model_module": "@jupyter-widgets/base",
            "top": null,
            "grid_column": null,
            "overflow_y": null,
            "overflow_x": null,
            "grid_auto_flow": null,
            "grid_area": null,
            "grid_template_columns": null,
            "flex": null,
            "_model_name": "LayoutModel",
            "justify_items": null,
            "grid_row": null,
            "max_height": null,
            "align_content": null,
            "visibility": null,
            "align_self": null,
            "height": null,
            "min_height": null,
            "padding": null,
            "grid_auto_rows": null,
            "grid_gap": null,
            "max_width": null,
            "order": null,
            "_view_module_version": "1.2.0",
            "grid_template_areas": null,
            "object_position": null,
            "object_fit": null,
            "grid_auto_columns": null,
            "margin": null,
            "display": null,
            "left": null
          }
        }
      }
    }
  },
  "cells": [
    {
      "cell_type": "code",
      "execution_count": null,
      "metadata": {
        "id": "23JuZ5n11uHo"
      },
      "outputs": [],
      "source": [
        "# Install packages\n",
        "!pip install vtk\n",
        "!pip install itkwidgets\n",
        "!pip install itk"
      ]
    },
    {
      "cell_type": "code",
      "source": [
        "import numpy as np\n",
        "from sklearn.cluster import KMeans\n",
        "import itk\n",
        "import vtk\n",
        "from vtk.util import numpy_support as ns\n",
        "from itkwidgets import view\n",
        "from skimage import measure\n",
        "\n",
        "# To enable running the itkwidgets window on colab\n",
        "\n",
        "from google.colab import output\n",
        "output.enable_custom_widget_manager()"
      ],
      "metadata": {
        "id": "vsP_ctpw7EgP"
      },
      "execution_count": 294,
      "outputs": []
    },
    {
      "cell_type": "code",
      "source": [
        "# Helper Functions for Mesh Processing\n",
        "\n",
        "# Get Centroid of all the cells\n",
        "def get_cell_centroid(vtk_mesh):\n",
        "    centroid_array = np.zeros([vtk_mesh.GetNumberOfCells(), 3])\n",
        "    num_of_cells = vtk_mesh.GetNumberOfCells()\n",
        "\n",
        "    points_array = np.zeros([num_of_cells, 3, 3])\n",
        "\n",
        "    for i in range(num_of_cells):\n",
        "        c = vtk_mesh.GetCell(i)\n",
        "        p = c.GetPoints()\n",
        "        p1 = np.array(p.GetData())\n",
        "        points_array[i] = p1\n",
        "\n",
        "    sum_array = np.sum(points_array, axis=1)\n",
        "    centroid_array = sum_array/3.0\n",
        "    return centroid_array\n",
        "  \n",
        "\n",
        "# Get Normal of all the cells\n",
        "def get_cell_normals(vtk_mesh):\n",
        "    # Get Normals for the cells of the mesh\n",
        "    normals_filter = vtk.vtkPolyDataNormals()\n",
        "    normals_filter.SetInputData(vtk_mesh)\n",
        "    normals_filter.ComputePointNormalsOn()\n",
        "    normals_filter.ComputeCellNormalsOn()\n",
        "    normals_filter.SplittingOff()\n",
        "    normals_filter.ConsistencyOn()\n",
        "    normals_filter.AutoOrientNormalsOff()\n",
        "    normals_filter.Update()\n",
        "    \n",
        "    output1 = normals_filter.GetOutput()\n",
        "    d1 = np.array(output1.GetCellData().GetNormals())\n",
        "    \n",
        "    return d1\n",
        "\n",
        "# Get VTK mesh using vertices and faces array\n",
        "def get_vtk_mesh(verts, faces):\n",
        "    cells = vtk.vtkCellArray()\n",
        "\n",
        "    # Add Cells\n",
        "    for i in range(0, faces.shape[0]):\n",
        "        tri = vtk.vtkTriangle()\n",
        "        current_cell_points = faces[i]\n",
        "        \n",
        "        for i in range(3):\n",
        "            point_id = current_cell_points[i]\n",
        "            tri.GetPointIds().SetId(i, point_id)    \n",
        "        cells.InsertNextCell(tri)\n",
        "\n",
        "    # Create a poly data object\n",
        "    vtk_mesh = vtk.vtkPolyData()\n",
        "    # Set the points and vertices we created as the geometry and topology of the polydata\n",
        "    vtk_points = vtk.vtkPoints()\n",
        "    vtk_points.SetData(ns.numpy_to_vtk(verts, deep=True))\n",
        "\n",
        "    vtk_mesh.SetPoints(vtk_points)\n",
        "    vtk_mesh.SetPolys(cells)\n",
        "    vtk_mesh.Modified()\n",
        "\n",
        "    connectivityFilter = vtk.vtkPolyDataConnectivityFilter()\n",
        "    connectivityFilter.SetInputData(vtk_mesh)\n",
        "    connectivityFilter.SetExtractionModeToAllRegions()\n",
        "    connectivityFilter.Update()\n",
        "        \n",
        "    valid_meshes = []\n",
        "    append_polydata = vtk.vtkAppendPolyData()\n",
        "    \n",
        "    # Filter out small regions\n",
        "    filter_thresh = 3000\n",
        "\n",
        "    for i in range(connectivityFilter.GetNumberOfExtractedRegions()):\n",
        "        connectivityFilter.AddSpecifiedRegion(i)\n",
        "        connectivityFilter.SetExtractionModeToSpecifiedRegions()\n",
        "        connectivityFilter.Update()\n",
        "        \n",
        "        out1 = connectivityFilter.GetOutput()\n",
        "        \n",
        "        if out1.GetNumberOfCells() > filter_thresh:\n",
        "          polydata = vtk.vtkPolyData()\n",
        "          polydata.ShallowCopy(out1)\n",
        "          append_polydata.AddInputData(polydata)\n",
        "        \n",
        "        connectivityFilter.DeleteSpecifiedRegion(i)\n",
        "    \n",
        "    append_polydata.Update()\n",
        "    output_combined = append_polydata.GetOutput()\n",
        "\n",
        "    return output_combined\n",
        "\n",
        "# Create a Mesh by selecting relevant faces only\n",
        "def get_vtk_sub_mesh(input_mesh, inner_face_list):\n",
        "    points = vtk.vtkPoints()\n",
        "    cells = vtk.vtkCellArray()\n",
        "\n",
        "    # Add Cells\n",
        "    counter = 0\n",
        "    point_ids_hash = {}\n",
        "    for i in inner_face_list:\n",
        "        tri = vtk.vtkTriangle()\n",
        "        current_cell_points = input_mesh.GetCell(i).GetPointIds()\n",
        "        \n",
        "        if current_cell_points.GetNumberOfIds() != 3:\n",
        "            print('Ids are not three Some Issue ', current_cell_points.GetNumberOfIds())\n",
        "        \n",
        "        for i in range(3):\n",
        "            point_id = current_cell_points.GetId(i)\n",
        "            \n",
        "            if point_id in point_ids_hash:\n",
        "                new_point_id = point_ids_hash[point_id]\n",
        "            else:\n",
        "                new_point_id = counter\n",
        "                point_ids_hash[point_id] = new_point_id\n",
        "                counter = counter + 1\n",
        "            \n",
        "            tri.GetPointIds().SetId(i, new_point_id)\n",
        "        \n",
        "        cells.InsertNextCell(tri)\n",
        "\n",
        "    points.SetNumberOfPoints(len(list(point_ids_hash.keys())))\n",
        "\n",
        "    # Add points\n",
        "    for i in point_ids_hash:\n",
        "        p = input_mesh.GetPoint(i)\n",
        "        new_id = point_ids_hash[i]\n",
        "        points.SetPoint(new_id, p)\n",
        "\n",
        "    # Create a poly data object\n",
        "    polydata = vtk.vtkPolyData()\n",
        "    # Set the points and vertices we created as the geometry and topology of the polydata\n",
        "    polydata.SetPoints(points)\n",
        "    polydata.SetPolys(cells)\n",
        "    polydata.Modified()\n",
        "\n",
        "    return polydata\n",
        "\n",
        "# For splitting the Tibial cartilage\n",
        "def split_tibial_cartilage_surface(mesh, mesh_normals, mesh_centroids):\n",
        "    mesh_centroids_normalized = (mesh_centroids - np.mean(mesh_centroids, axis=0)) / \\\n",
        "                                (np.max(mesh_centroids, axis=0) - np.min(mesh_centroids, axis=0))\n",
        "\n",
        "    # clustering normals\n",
        "    features = np.concatenate((mesh_centroids_normalized * 1, mesh_normals * 10), axis=1)\n",
        "    \n",
        "    est = KMeans(n_clusters=2, algorithm=\"full\")\n",
        "    labels = est.fit(features).labels_\n",
        "\n",
        "    # transfer 0/1 labels to -1/1 labels\n",
        "    inner_outer_label_list = labels * 2 - 1\n",
        "\n",
        "    # set inner surface which contains mostly positive normals\n",
        "    if mesh_normals[inner_outer_label_list == -1, 1].mean() < 0:\n",
        "        inner_outer_label_list = -inner_outer_label_list\n",
        "\n",
        "\n",
        "    inner_face_list = np.where(inner_outer_label_list == -1)[0]\n",
        "    outer_face_list = np.where(inner_outer_label_list == 1)[0]\n",
        "\n",
        "    inner_mesh = get_vtk_sub_mesh(mesh, inner_face_list)\n",
        "    outer_mesh = get_vtk_sub_mesh(mesh, outer_face_list)\n",
        "\n",
        "    return inner_mesh, outer_mesh, inner_face_list, outer_face_list\n",
        "\n",
        "# Clusters the feature vectors and segments the mesh\n",
        "def cluster_and_segment(mesh_centroids_normalized, face_normal_value, dot_output):\n",
        "    features = np.concatenate((mesh_centroids_normalized * 1, face_normal_value, dot_output), axis=1)\n",
        "    est1 = KMeans(n_clusters=2, \n",
        "                 algorithm=\"full\",\n",
        "                 n_init=5)\n",
        "    labels_upper = est1.fit(features).labels_\n",
        "    labels_upper = labels_upper*2 - 1\n",
        "\n",
        "    # set inner surface which contains mostly positive normals\n",
        "    if face_normal_value[labels_upper == -1, 1].mean() < 0:\n",
        "       labels_upper = -labels_upper\n",
        "    \n",
        "    return labels_upper\n",
        "  \n",
        "# For splitting the Femoral cartilage\n",
        "def split_femoral_cartilage_surface(mesh, face_normal, face_centroid, num_divisions=3):\n",
        "    mesh_centroids_normalized = (face_centroid - np.mean(face_centroid, axis=0)) / \\\n",
        "                                (np.max(face_centroid, axis=0) - np.min(face_centroid, axis=0))\n",
        "    \n",
        "    (xmin,xmax,ymin,ymax,zmin,zmax)  = mesh.GetBounds()\n",
        "    bbox_min = np.array([xmin, ymin, zmin])\n",
        "    bbox_max = np.array([xmax, ymax, zmax])\n",
        "\n",
        "    center = (bbox_min + bbox_max) / 2\n",
        "    \n",
        "    inner_outer_label_list = np.zeros(mesh.GetNumberOfCells())  # up:1, down:-1\n",
        "    connect_direction = center - face_centroid\n",
        "\n",
        "    dot_output = np.multiply(connect_direction, face_normal)\n",
        "    x_coord = mesh_centroids_normalized[:, 0]\n",
        "\n",
        "    # For puting the labels at correct indices for all the segments\n",
        "    inner_outer_label_list = np.zeros(mesh_centroids_normalized.shape[0])\n",
        "\n",
        "    # For dividing the mesh into smaller segments for better clustering\n",
        "    min_x = np.min(mesh_centroids_normalized[:, 0])\n",
        "    max_x = np.max(mesh_centroids_normalized[:, 0])\n",
        "    step_value = (max_x-min_x)/num_divisions\n",
        "\n",
        "    # Perform clustering for each segment individually\n",
        "    for i in range(num_divisions):\n",
        "      lower_x = min_x + step_value*i \n",
        "      upper_x = lower_x + step_value\n",
        "      current_indices = np.where((x_coord >= lower_x) & (x_coord < upper_x))[0]\n",
        "      \n",
        "      mesh_centroids_normalized_extracted = mesh_centroids_normalized[current_indices]\n",
        "      face_normal_value_extracted = face_normal[current_indices]\n",
        "      dot_output_extracted = dot_output[current_indices]\n",
        "\n",
        "      # Clustering the current segment\n",
        "      current_labels = cluster_and_segment(mesh_centroids_normalized_extracted, face_normal_value_extracted, dot_output_extracted)\n",
        "\n",
        "      # Put the labels into the correct positions in the full mesh\n",
        "      np.put(inner_outer_label_list, current_indices,  current_labels)\n",
        "    \n",
        "    inner_face_list = np.where(inner_outer_label_list == -1)[0]\n",
        "    outer_face_list = np.where(inner_outer_label_list == 1)[0]\n",
        "\n",
        "    inner_mesh = get_vtk_sub_mesh(mesh, inner_face_list)\n",
        "    outer_mesh = get_vtk_sub_mesh(mesh, outer_face_list)\n",
        "\n",
        "    return inner_mesh, outer_mesh, inner_face_list, outer_face_list\n",
        "  \n",
        "def smooth_mesh(input_mesh, num_iterations=150):\n",
        "  smoothing_filter = vtk.vtkSmoothPolyDataFilter()\n",
        "  smoothing_filter.SetNumberOfIterations(num_iterations)\n",
        "\n",
        "  smoothing_filter.SetInputData(input_mesh)\n",
        "  smoothing_filter.Update()\n",
        "\n",
        "  output_mesh = smoothing_filter.GetOutput()\n",
        "  return output_mesh"
      ],
      "metadata": {
        "id": "5aGRrBEs1-EX"
      },
      "execution_count": 295,
      "outputs": []
    },
    {
      "cell_type": "code",
      "source": [
        "# Download TC and FC probability map\n",
        "!gdown --id 1TNRaBAFUFbFIq1huBNSDs6vXHfdcSAQg\n",
        "!gdown --id 1G_kMsqT6pKPeYmw6gOcDrDiofUf0U4QW"
      ],
      "metadata": {
        "id": "YTwv1qp5BxGe",
        "colab": {
          "base_uri": "https://localhost:8080/"
        },
        "outputId": "67df9532-10b9-423f-8365-ac14286c40b1"
      },
      "execution_count": 296,
      "outputs": [
        {
          "output_type": "stream",
          "name": "stdout",
          "text": [
            "Downloading...\n",
            "From: https://drive.google.com/uc?id=1TNRaBAFUFbFIq1huBNSDs6vXHfdcSAQg\n",
            "To: /content/FC_probmap.nii.gz\n",
            "100% 80.0M/80.0M [00:00<00:00, 233MB/s]\n",
            "Downloading...\n",
            "From: https://drive.google.com/uc?id=1G_kMsqT6pKPeYmw6gOcDrDiofUf0U4QW\n",
            "To: /content/TC_probmap.nii.gz\n",
            "100% 80.0M/80.0M [00:00<00:00, 146MB/s]\n"
          ]
        }
      ]
    },
    {
      "cell_type": "code",
      "source": [
        "# Main Code \n",
        "\n",
        "# Read the Segmentation Probability maps\n",
        "fc_prob_file = 'FC_probmap.nii.gz'\n",
        "tc_prob_file = 'TC_probmap.nii.gz'\n",
        "\n",
        "segmentation_file =  (fc_prob_file, tc_prob_file)\n",
        "segmentation = [itk.imread(file) for file in segmentation_file]\n",
        "\n",
        "FC_prob = np.swapaxes(np.asarray(segmentation[0]), 0, 2).astype(float)\n",
        "TC_prob = np.swapaxes(np.asarray(segmentation[1]), 0, 2).astype(float)\n",
        "\n",
        "spacing = segmentation[0].GetSpacing()\n",
        "print('Image Reading Done')\n",
        "\n",
        "# Obtain the mesh from Probability maps using Marching Cubes\n",
        "FC_verts, FC_faces, FC_normals, FC_values = measure.marching_cubes_lewiner(FC_prob, 0.5,\n",
        "                                                                               spacing=spacing,\n",
        "                                                                               step_size=1, \n",
        "                                                                               gradient_direction=\"ascent\")\n",
        "TC_verts, TC_faces, TC_normals, TC_values = measure.marching_cubes_lewiner(TC_prob, 0.5,\n",
        "                                                                            spacing=spacing,\n",
        "                                                                            step_size=1, \n",
        "                                                                            gradient_direction=\"ascent\")\n",
        "print('Marching Cubes Done')\n",
        "\n",
        "FC_mesh = get_vtk_mesh(FC_verts, FC_faces)\n",
        "TC_mesh = get_vtk_mesh(TC_verts, TC_faces)\n",
        "\n",
        "# For smoothing the mesh surface to obtain gradually varying face normals\n",
        "\n",
        "FC_mesh = smooth_mesh(FC_mesh)\n",
        "TC_mesh = smooth_mesh(TC_mesh)\n",
        "\n",
        "print('Mesh Extraction Done')\n",
        "\n",
        "# Obtain the cell normals and centroids to be used for splittig the cartilage\n",
        "FC_mesh_cell_normals = get_cell_normals(FC_mesh)\n",
        "TC_mesh_cell_normals = get_cell_normals(TC_mesh)\n",
        "\n",
        "FC_mesh_cell_centroids = get_cell_centroid(FC_mesh)\n",
        "TC_mesh_cell_centroids = get_cell_centroid(TC_mesh)\n",
        "\n",
        "print('Mesh Attributes Calculation Done')"
      ],
      "metadata": {
        "colab": {
          "base_uri": "https://localhost:8080/"
        },
        "id": "Jv_Gc19I35vR",
        "outputId": "3cefcb04-1ce1-416e-9c43-e7318ee86359"
      },
      "execution_count": 297,
      "outputs": [
        {
          "output_type": "stream",
          "name": "stdout",
          "text": [
            "Image Reading Done\n"
          ]
        },
        {
          "output_type": "stream",
          "name": "stderr",
          "text": [
            "marching_cubes_lewiner is deprecated in favor of marching_cubes. marching_cubes_lewiner will be removed in version 0.19\n",
            "marching_cubes_lewiner is deprecated in favor of marching_cubes. marching_cubes_lewiner will be removed in version 0.19\n"
          ]
        },
        {
          "output_type": "stream",
          "name": "stdout",
          "text": [
            "Marching Cubes Done\n",
            "Mesh Extraction Done\n",
            "Mesh Attributes Calculation Done\n"
          ]
        }
      ]
    },
    {
      "cell_type": "code",
      "source": [
        "# Split the femoral cartilage\n",
        "inner_mesh, outer_mesh, inner_face_list, outer_face_list = split_femoral_cartilage_surface(FC_mesh,\n",
        "                                                                                           FC_mesh_cell_normals,\n",
        "                                                                                           FC_mesh_cell_centroids)\n",
        "\n",
        "\n",
        "print('Femoral cartilage splitting done')\n",
        "# For getting the thickness between the two meshes\n",
        "distance_filter = vtk.vtkDistancePolyDataFilter()\n",
        "distance_filter.SetInputData(0, inner_mesh)\n",
        "distance_filter.SetInputData(1, outer_mesh)\n",
        "distance_filter.SignedDistanceOff()\n",
        "distance_filter.SetComputeSecondDistance(True)\n",
        "distance_filter.Update()\n",
        "\n",
        "distance_inner = distance_filter.GetOutput()\n",
        "distance_outer = distance_filter.GetSecondDistanceOutput ()\n",
        "\n",
        "print('Thickness computation done for femoral cartilage')"
      ],
      "metadata": {
        "colab": {
          "base_uri": "https://localhost:8080/"
        },
        "id": "CpvgsGEP1tnK",
        "outputId": "b419fb80-9e1a-409c-90c3-31339b16a95a"
      },
      "execution_count": 298,
      "outputs": [
        {
          "output_type": "stream",
          "name": "stdout",
          "text": [
            "Femoral cartilage splitting done\n",
            "Thickness computation done for femoral cartilage\n"
          ]
        }
      ]
    },
    {
      "cell_type": "code",
      "source": [
        "# Visualize the splitted mesh\n",
        "view(geometries=[inner_mesh, outer_mesh])"
      ],
      "metadata": {
        "colab": {
          "base_uri": "https://localhost:8080/",
          "height": 717,
          "referenced_widgets": [
            "5ee20e7800674f17a1a4061229a414a3",
            "db19f21494eb41308032b8106e125971"
          ]
        },
        "id": "GoqNsloK6Jiq",
        "outputId": "da34e309-356e-44d5-816f-7f1c79887c8b"
      },
      "execution_count": 299,
      "outputs": [
        {
          "output_type": "display_data",
          "data": {
            "application/vnd.jupyter.widget-view+json": {
              "model_id": "5ee20e7800674f17a1a4061229a414a3",
              "version_minor": 0,
              "version_major": 2
            },
            "text/plain": [
              "Viewer(geometries=[{'vtkClass': 'vtkPolyData', 'points': {'vtkClass': 'vtkPoints', 'name': '_points', 'numberO…"
            ]
          },
          "metadata": {
            "application/vnd.jupyter.widget-view+json": {
              "colab": {
                "custom_widget_manager": {
                  "url": "https://ssl.gstatic.com/colaboratory-static/widgets/colab-cdn-widget-manager/a8874ba6619b6106/manager.min.js"
                }
              }
            }
          }
        }
      ]
    },
    {
      "cell_type": "code",
      "source": [
        "# Visualize the thickness map\n",
        "view(geometries=[distance_inner, distance_outer])"
      ],
      "metadata": {
        "colab": {
          "base_uri": "https://localhost:8080/",
          "height": 717,
          "referenced_widgets": [
            "88a75b392cc846189dca8daa266854f4",
            "bc29d2145ba047dab9182df40511a2a3"
          ]
        },
        "id": "9FXIcVU-_Eap",
        "outputId": "9486ea24-9f51-4943-fc80-44bc2c99ba59"
      },
      "execution_count": 300,
      "outputs": [
        {
          "output_type": "display_data",
          "data": {
            "application/vnd.jupyter.widget-view+json": {
              "model_id": "88a75b392cc846189dca8daa266854f4",
              "version_minor": 0,
              "version_major": 2
            },
            "text/plain": [
              "Viewer(geometries=[{'vtkClass': 'vtkPolyData', 'points': {'vtkClass': 'vtkPoints', 'name': '_points', 'numberO…"
            ]
          },
          "metadata": {
            "application/vnd.jupyter.widget-view+json": {
              "colab": {
                "custom_widget_manager": {
                  "url": "https://ssl.gstatic.com/colaboratory-static/widgets/colab-cdn-widget-manager/a8874ba6619b6106/manager.min.js"
                }
              }
            }
          }
        }
      ]
    },
    {
      "cell_type": "code",
      "source": [
        "# Split the Tibial cartilage\n",
        "inner_mesh, outer_mesh, inner_face_list, outer_face_list = split_tibial_cartilage_surface(TC_mesh,\n",
        "                                                                                            TC_mesh_cell_normals,\n",
        "                                                                                            TC_mesh_cell_centroids)\n",
        "\n",
        "print('Tibial cartilage splitting done')\n",
        "\n",
        "# For getting the thickness between the two meshes\n",
        "distance_filter = vtk.vtkDistancePolyDataFilter()\n",
        "distance_filter.SetInputData(0, inner_mesh)\n",
        "distance_filter.SetInputData(1, outer_mesh)\n",
        "distance_filter.SignedDistanceOff()\n",
        "distance_filter.SetComputeSecondDistance(True)\n",
        "distance_filter.Update()\n",
        "\n",
        "distance_inner = distance_filter.GetOutput()\n",
        "distance_outer = distance_filter.GetSecondDistanceOutput ()\n",
        "\n",
        "print('Thickness computation done for tibial cartilage')"
      ],
      "metadata": {
        "colab": {
          "base_uri": "https://localhost:8080/"
        },
        "id": "a_1NU9a79iE1",
        "outputId": "dc14dbb8-d29d-4cd9-afd8-2d2df491b37d"
      },
      "execution_count": 301,
      "outputs": [
        {
          "output_type": "stream",
          "name": "stdout",
          "text": [
            "Tibial cartilage splitting done\n",
            "Thickness computation done for tibial cartilage\n"
          ]
        }
      ]
    },
    {
      "cell_type": "code",
      "source": [
        "# Visualize the splitted mesh\n",
        "view(geometries=[inner_mesh, outer_mesh])"
      ],
      "metadata": {
        "colab": {
          "base_uri": "https://localhost:8080/",
          "height": 717,
          "referenced_widgets": [
            "162b82068e904b57803da7d8f6e38277",
            "054c94ff804743babebe12b47fd07219"
          ]
        },
        "id": "LgzqvF6o9YVM",
        "outputId": "ee5f0b91-8c20-4a87-bd22-917f66df65c0"
      },
      "execution_count": 302,
      "outputs": [
        {
          "output_type": "display_data",
          "data": {
            "application/vnd.jupyter.widget-view+json": {
              "model_id": "162b82068e904b57803da7d8f6e38277",
              "version_minor": 0,
              "version_major": 2
            },
            "text/plain": [
              "Viewer(geometries=[{'vtkClass': 'vtkPolyData', 'points': {'vtkClass': 'vtkPoints', 'name': '_points', 'numberO…"
            ]
          },
          "metadata": {
            "application/vnd.jupyter.widget-view+json": {
              "colab": {
                "custom_widget_manager": {
                  "url": "https://ssl.gstatic.com/colaboratory-static/widgets/colab-cdn-widget-manager/a8874ba6619b6106/manager.min.js"
                }
              }
            }
          }
        }
      ]
    },
    {
      "cell_type": "code",
      "source": [
        "# Visualize the thickness map\n",
        "view(geometries=[distance_inner, distance_outer])"
      ],
      "metadata": {
        "colab": {
          "base_uri": "https://localhost:8080/",
          "height": 717,
          "referenced_widgets": [
            "0f83ff475ed94a5d8b45073e51207b01",
            "52135b59c2ed41ec922303a4fc5069e9"
          ]
        },
        "id": "c1UkilVz_bs6",
        "outputId": "0d08996d-4889-415d-af47-c1f12bd8c973"
      },
      "execution_count": 303,
      "outputs": [
        {
          "output_type": "display_data",
          "data": {
            "application/vnd.jupyter.widget-view+json": {
              "model_id": "0f83ff475ed94a5d8b45073e51207b01",
              "version_minor": 0,
              "version_major": 2
            },
            "text/plain": [
              "Viewer(geometries=[{'vtkClass': 'vtkPolyData', 'points': {'vtkClass': 'vtkPoints', 'name': '_points', 'numberO…"
            ]
          },
          "metadata": {
            "application/vnd.jupyter.widget-view+json": {
              "colab": {
                "custom_widget_manager": {
                  "url": "https://ssl.gstatic.com/colaboratory-static/widgets/colab-cdn-widget-manager/a8874ba6619b6106/manager.min.js"
                }
              }
            }
          }
        }
      ]
    }
  ]
}